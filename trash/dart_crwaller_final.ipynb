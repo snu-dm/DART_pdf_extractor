{
 "cells": [
  {
   "cell_type": "code",
   "execution_count": 1,
   "id": "d15e0d40",
   "metadata": {},
   "outputs": [],
   "source": [
    "from selenium import webdriver\n",
    "from selenium.webdriver.support.ui import WebDriverWait\n",
    "from selenium.webdriver.support import expected_conditions as EC\n",
    "from selenium.webdriver.common.by import By\n",
    "import os"
   ]
  },
  {
   "cell_type": "code",
   "execution_count": 5,
   "id": "82693931",
   "metadata": {
    "scrolled": true
   },
   "outputs": [
    {
     "name": "stderr",
     "output_type": "stream",
     "text": [
      "C:\\Users\\sjsko\\AppData\\Local\\Temp\\ipykernel_7508\\138890332.py:18: DeprecationWarning: find_element_by_xpath is deprecated. Please use find_element(by=By.XPATH, value=xpath) instead\n",
      "  elem.find_element_by_xpath(\"/html/body/div[4]/div[2]/div[1]/div[2]/div[2]/form[2]/div[2]/div[1]/ul/li[4]/div/span/ul/li[1]/label[1]/img\").click()\n"
     ]
    },
    {
     "name": "stdout",
     "output_type": "stream",
     "text": [
      "사업보고서 (2021.12)\n",
      "분기보고서 (2021.09)\n",
      "반기보고서 (2021.06)\n",
      "분기보고서 (2021.03)\n"
     ]
    },
    {
     "name": "stderr",
     "output_type": "stream",
     "text": [
      "C:\\Users\\sjsko\\AppData\\Local\\Temp\\ipykernel_7508\\138890332.py:25: DeprecationWarning: find_element_by_xpath is deprecated. Please use find_element(by=By.XPATH, value=xpath) instead\n",
      "  eee = elem.find_element_by_xpath(\"/html/body/div[4]/div[2]/div[1]/div[2]/div[2]/form[3]/div/div[1]/table\")\n",
      "C:\\Users\\sjsko\\AppData\\Local\\Temp\\ipykernel_7508\\138890332.py:28: DeprecationWarning: find_elements_by_css_selector is deprecated. Please use find_elements(by=By.CSS_SELECTOR, value=css_selector) instead\n",
      "  tableno=len(eee.find_elements_by_css_selector('tr'))\n",
      "C:\\Users\\sjsko\\AppData\\Local\\Temp\\ipykernel_7508\\138890332.py:32: DeprecationWarning: find_element_by_xpath is deprecated. Please use find_element(by=By.XPATH, value=xpath) instead\n",
      "  cell=elem.find_element_by_xpath(path)\n"
     ]
    }
   ],
   "source": [
    "import time\n",
    "from selenium import webdriver\n",
    "#from selenium.webdriver.common.keys import Keys\n",
    "from selenium import webdriver\n",
    "from bs4 import BeautifulSoup\n",
    "from selenium.webdriver.common.keys import Keys\n",
    "\n",
    "\n",
    "\n",
    "browser = webdriver.Chrome()\n",
    "url='https://dart.fss.or.kr/dsab007/main.do?option=corp'\n",
    "browser.get(url)\n",
    "\n",
    "\n",
    "elem = browser.find_element(By.ID,\"textCrpNm\")\n",
    "\n",
    "elem.send_keys(\"삼성전자\")\n",
    "elem.find_element_by_xpath(\"/html/body/div[4]/div[2]/div[1]/div[2]/div[2]/form[2]/div[2]/div[1]/ul/li[4]/div/span/ul/li[1]/label[1]/img\").click()\n",
    "elem.send_keys(Keys.RETURN)   #enter 키 치는거 자동화\n",
    "\n",
    "\n",
    "time.sleep(3)\n",
    "\n",
    "\n",
    "eee = elem.find_element_by_xpath(\"/html/body/div[4]/div[2]/div[1]/div[2]/div[2]/form[3]/div/div[1]/table\")\n",
    "\n",
    "    \n",
    "tableno=len(eee.find_elements_by_css_selector('tr'))\n",
    "\n",
    "for i in range(tableno-1):\n",
    "    path=f\"/html/body/div[4]/div[2]/div[1]/div[2]/div[2]/form[3]/div/div[1]/table/tbody/tr[{i+1}]/td[3]/a\"\n",
    "    cell=elem.find_element_by_xpath(path)\n",
    "    print(cell.text)\n",
    "    "
   ]
  },
  {
   "cell_type": "code",
   "execution_count": 6,
   "id": "97e81d79",
   "metadata": {},
   "outputs": [
    {
     "name": "stderr",
     "output_type": "stream",
     "text": [
      "C:\\Users\\sjsko\\AppData\\Local\\Temp\\ipykernel_7508\\428023225.py:18: DeprecationWarning: find_element_by_xpath is deprecated. Please use find_element(by=By.XPATH, value=xpath) instead\n",
      "  elem.find_element_by_xpath(\"/html/body/div[4]/div[2]/div[1]/div[2]/div[2]/form[2]/div[2]/div[1]/ul/li[4]/div/span/ul/li[1]/label[1]/img\").click()\n",
      "C:\\Users\\sjsko\\AppData\\Local\\Temp\\ipykernel_7508\\428023225.py:25: DeprecationWarning: find_element_by_xpath is deprecated. Please use find_element(by=By.XPATH, value=xpath) instead\n",
      "  eee = elem.find_element_by_xpath(\"/html/body/div[4]/div[2]/div[1]/div[2]/div[2]/form[3]/div/div[1]/table\")\n",
      "C:\\Users\\sjsko\\AppData\\Local\\Temp\\ipykernel_7508\\428023225.py:28: DeprecationWarning: find_elements_by_css_selector is deprecated. Please use find_elements(by=By.CSS_SELECTOR, value=css_selector) instead\n",
      "  tableno=len(eee.find_elements_by_css_selector('tr'))\n",
      "C:\\Users\\sjsko\\AppData\\Local\\Temp\\ipykernel_7508\\428023225.py:32: DeprecationWarning: find_element_by_xpath is deprecated. Please use find_element(by=By.XPATH, value=xpath) instead\n",
      "  cell=elem.find_element_by_xpath(path)\n"
     ]
    },
    {
     "name": "stdout",
     "output_type": "stream",
     "text": [
      "['CDwindow-95BABCF08D016A1189D1EE842172FEAD', 'CDwindow-802A8D5D9637336162C0AE2BB7CB9585', 'CDwindow-CCDBAA7FC4C2ACBF030F049FF7866BBE']\n"
     ]
    },
    {
     "name": "stderr",
     "output_type": "stream",
     "text": [
      "C:\\Users\\sjsko\\AppData\\Local\\Temp\\ipykernel_7508\\428023225.py:41: DeprecationWarning: find_element_by_xpath is deprecated. Please use find_element(by=By.XPATH, value=xpath) instead\n",
      "  driver.find_element_by_xpath(\"/html/body/div/div[3]/div/div/table/tbody/tr[1]/td[2]/a\").click() #pdf 다운로드\n"
     ]
    },
    {
     "name": "stdout",
     "output_type": "stream",
     "text": [
      "['CDwindow-95BABCF08D016A1189D1EE842172FEAD']\n",
      "['CDwindow-95BABCF08D016A1189D1EE842172FEAD', 'CDwindow-B1166C16E49EFF6A72D8EAAA90B5C60B', 'CDwindow-6813B21FA99936A61D92B869D6CC3785']\n",
      "['CDwindow-95BABCF08D016A1189D1EE842172FEAD']\n",
      "['CDwindow-95BABCF08D016A1189D1EE842172FEAD', 'CDwindow-A598F5B2960C1FBC5EF350B1756C89FE', 'CDwindow-07E793E281EC057ED4E43183E7546459']\n",
      "['CDwindow-95BABCF08D016A1189D1EE842172FEAD']\n",
      "['CDwindow-95BABCF08D016A1189D1EE842172FEAD', 'CDwindow-9670EB2689FB0C8E132B88E80BB0A8D7', 'CDwindow-D735E0E6C18E58DD15573126BB5BF148']\n",
      "['CDwindow-95BABCF08D016A1189D1EE842172FEAD']\n"
     ]
    }
   ],
   "source": [
    "import time\n",
    "from selenium import webdriver\n",
    "#from selenium.webdriver.common.keys import Keys\n",
    "from selenium import webdriver\n",
    "from bs4 import BeautifulSoup\n",
    "from selenium.webdriver.common.keys import Keys\n",
    "\n",
    "\n",
    "\n",
    "driver = webdriver.Chrome()\n",
    "url='https://dart.fss.or.kr/dsab007/main.do?option=corp'\n",
    "driver.get(url)\n",
    "\n",
    "\n",
    "elem = driver.find_element(By.ID,\"textCrpNm\")\n",
    "\n",
    "elem.send_keys(\"SK하이닉스\")\n",
    "elem.find_element_by_xpath(\"/html/body/div[4]/div[2]/div[1]/div[2]/div[2]/form[2]/div[2]/div[1]/ul/li[4]/div/span/ul/li[1]/label[1]/img\").click()\n",
    "elem.send_keys(Keys.RETURN)   #enter 키 치는거 자동화\n",
    "\n",
    "\n",
    "time.sleep(3)\n",
    "\n",
    "#테이블 xpath\n",
    "eee = elem.find_element_by_xpath(\"/html/body/div[4]/div[2]/div[1]/div[2]/div[2]/form[3]/div/div[1]/table\")\n",
    "\n",
    "    \n",
    "tableno=len(eee.find_elements_by_css_selector('tr'))\n",
    "\n",
    "for i in range(tableno-1):\n",
    "    path=f\"/html/body/div[4]/div[2]/div[1]/div[2]/div[2]/form[3]/div/div[1]/table/tbody/tr[{i+1}]/td[3]/a\"\n",
    "    cell=elem.find_element_by_xpath(path)\n",
    "    \n",
    "    cell.click()\n",
    "    \n",
    "    #print(driver.window_handles)\n",
    "    driver.switch_to.window(driver.window_handles[-1]) #창이 새로 켜지므로 새로운 윈도우로 이동\n",
    "    driver.find_element(By.CLASS_NAME,\"btnDown\").click()\n",
    "    print(driver.window_handles)\n",
    "    driver.switch_to.window(driver.window_handles[-1]) #두번째 창이 새로 켜지므로 새로운 윈도우로 이동\n",
    "    driver.find_element_by_xpath(\"/html/body/div/div[3]/div/div/table/tbody/tr[1]/td[2]/a\").click() #pdf 다운로드\n",
    "    driver.close() #마지막으로 켜진 창 끄기\n",
    "    driver.switch_to.window(driver.window_handles[-1]) #두번째 창이 새로 꺼지므로 중간 윈도우로 이동\n",
    "    driver.close() #중간 켜진 창 끄기\n",
    "    print(driver.window_handles) \n",
    "    driver.switch_to.window(driver.window_handles[-1])  #중간 창이 새로 꺼지므로 첫번째 윈도우로 이동\n"
   ]
  },
  {
   "cell_type": "code",
   "execution_count": null,
   "id": "5c8a5dd0",
   "metadata": {},
   "outputs": [],
   "source": []
  }
 ],
 "metadata": {
  "interpreter": {
   "hash": "73687a70bccfd3a9b227d4d86fcd3ceb204b12e1d04ab52cc42de819f02c3ddf"
  },
  "kernelspec": {
   "display_name": "Python 3.9.12 ('base')",
   "language": "python",
   "name": "python3"
  },
  "language_info": {
   "codemirror_mode": {
    "name": "ipython",
    "version": 3
   },
   "file_extension": ".py",
   "mimetype": "text/x-python",
   "name": "python",
   "nbconvert_exporter": "python",
   "pygments_lexer": "ipython3",
   "version": "3.9.12"
  }
 },
 "nbformat": 4,
 "nbformat_minor": 5
}
